{
  "nbformat": 4,
  "nbformat_minor": 0,
  "metadata": {
    "colab": {
      "provenance": [],
      "authorship_tag": "ABX9TyP3NZuaex8JttZSuIE1+9VM",
      "include_colab_link": true
    },
    "kernelspec": {
      "name": "python3",
      "display_name": "Python 3"
    },
    "language_info": {
      "name": "python"
    }
  },
  "cells": [
    {
      "cell_type": "markdown",
      "metadata": {
        "id": "view-in-github",
        "colab_type": "text"
      },
      "source": [
        "<a href=\"https://colab.research.google.com/github/CodeHunterOfficial/CCPiOIIC/blob/main/%D0%92%D1%81%D0%B5_%D0%B7%D0%B0%D0%B4%D0%B0%D1%87%D0%B8_%D0%BA%D1%83%D1%80%D1%81%D0%B0_%D0%BF%D0%BE_%D0%BF%D1%80%D0%BE%D0%B3%D1%80%D0%B0%D0%BC%D0%BC%D0%B8%D1%80%D0%BE%D0%B2%D0%B0%D0%BD%D0%B8%D1%8E.ipynb\" target=\"_parent\"><img src=\"https://colab.research.google.com/assets/colab-badge.svg\" alt=\"Open In Colab\"/></a>"
      ]
    },
    {
      "cell_type": "markdown",
      "source": [
        "# Задания для лабораторной работы №1."
      ],
      "metadata": {
        "id": "eNHMwgl5r2ID"
      }
    },
    {
      "cell_type": "markdown",
      "source": [
        "Задание 1. Напишите несколько строк кода, выводящих на экран ваше имя и\n",
        "почтовый адрес. Адрес напишите в формате, принятом в вашей стране.\n",
        "\n"
      ],
      "metadata": {
        "id": "0ZYBpeigrSZ7"
      }
    },
    {
      "cell_type": "code",
      "execution_count": 3,
      "metadata": {
        "colab": {
          "base_uri": "https://localhost:8080/"
        },
        "id": "ufPYGQdGqJ_I",
        "outputId": "256bed4c-bf90-4a08-eb98-1e3690119cc1"
      },
      "outputs": [
        {
          "output_type": "stream",
          "name": "stdout",
          "text": [
            "Имя: Иванов Иван Ивановч\n",
            "Адрес: 123456, Россия, г. Москва, ул. Примерная, д. 1\n"
          ]
        }
      ],
      "source": [
        "# Задаем имя и адрес\n",
        "name = \"Иванов Иван Ивановч\"\n",
        "address = \"123456, Россия, г. Москва, ул. Примерная, д. 1\"\n",
        "\n",
        "# Выводим имя и адрес на экран\n",
        "print(\"Имя:\", name)\n",
        "print(\"Адрес:\", address)"
      ]
    },
    {
      "cell_type": "markdown",
      "source": [
        "\n",
        "Задание 2. Интернет-магазин занимается продажей различных сувениров и\n",
        "безделушек. Каждый сувенир весит 75 г, а безделушка – 112 г. Напишите программу,\n",
        "запрашивающую у пользователя количество тех и других покупок, после чего выведите на\n",
        "экран общий вес посылки.\n",
        "\n",
        "\n"
      ],
      "metadata": {
        "id": "lsipf0LcrUaA"
      }
    },
    {
      "cell_type": "code",
      "source": [
        "# Запрос количества сувениров и безделушек у пользователя\n",
        "souvenirs = int(input(\"Введите количество сувениров: \"))\n",
        "trinkets = int(input(\"Введите количество безделушек: \"))\n",
        "\n",
        "# Масса одного сувенира и безделушки\n",
        "souvenir_weight = 75  # в граммах\n",
        "trinket_weight = 112  # в граммах\n",
        "\n",
        "# Рассчитываем общий вес\n",
        "total_weight = (souvenirs * souvenir_weight) + (trinkets * trinket_weight)\n",
        "\n",
        "# Выводим общий вес посылки\n",
        "print(f\"Общий вес посылки: {total_weight} г\")"
      ],
      "metadata": {
        "colab": {
          "base_uri": "https://localhost:8080/"
        },
        "id": "AoXvExSgrVx_",
        "outputId": "06df2d31-8d83-4c21-a429-8051041ebd90"
      },
      "execution_count": 4,
      "outputs": [
        {
          "output_type": "stream",
          "name": "stdout",
          "text": [
            "Введите количество сувениров: 2\n",
            "Введите количество безделушек: 3\n",
            "Общий вес посылки: 486 г\n"
          ]
        }
      ]
    },
    {
      "cell_type": "markdown",
      "source": [
        "Задание 3. Создайте программу, которая запрашивает у пользователя два целых\n",
        "числа a и b, после чего выводит на экран результаты следующих математических операций:\n",
        "- сумма a и b;\n",
        "- разница между a и b;\n",
        "- произведение a и b;\n",
        "- частное от деления a на b;\n",
        "- остаток от деления a на b;\n",
        "- десятичный логарифм числа a;\n",
        "- результат возведения числа a в степень b.\n",
        "Подсказка. Функции log10, pow вы найдете в модуле math."
      ],
      "metadata": {
        "id": "lboZ9H0SrV8Z"
      }
    },
    {
      "cell_type": "code",
      "source": [
        "import math\n",
        "\n",
        "# Запрос двух целых чисел у пользователя\n",
        "a = int(input(\"Введите целое число a: \"))\n",
        "b = int(input(\"Введите целое число b: \"))\n",
        "\n",
        "# Операции\n",
        "sum_result = a + b\n",
        "difference = a - b\n",
        "product = a * b\n",
        "quotient = a / b if b != 0 else \"Ошибка: деление на ноль\"\n",
        "remainder = a % b if b != 0 else \"Ошибка: деление на ноль\"\n",
        "log_a = math.log10(a) if a > 0 else \"Ошибка: логарифм для отрицательного числа\"\n",
        "power = pow(a, b)\n",
        "\n",
        "# Вывод результатов\n",
        "print(f\"Сумма a и b: {sum_result}\")\n",
        "print(f\"Разница между a и b: {difference}\")\n",
        "print(f\"Произведение a и b: {product}\")\n",
        "print(f\"Частное от деления a на b: {quotient}\")\n",
        "print(f\"Остаток от деления a на b: {remainder}\")\n",
        "print(f\"Десятичный логарифм числа a: {log_a}\")\n",
        "print(f\"Результат возведения a в степень b: {power}\")"
      ],
      "metadata": {
        "colab": {
          "base_uri": "https://localhost:8080/"
        },
        "id": "0imVMaD4raDp",
        "outputId": "50a08dcf-e868-44e7-e60e-b882c7cfc6d8"
      },
      "execution_count": 5,
      "outputs": [
        {
          "output_type": "stream",
          "name": "stdout",
          "text": [
            "Введите целое число a: 25\n",
            "Введите целое число b: 10\n",
            "Сумма a и b: 35\n",
            "Разница между a и b: 15\n",
            "Произведение a и b: 250\n",
            "Частное от деления a на b: 2.5\n",
            "Остаток от деления a на b: 5\n",
            "Десятичный логарифм числа a: 1.3979400086720377\n",
            "Результат возведения a в степень b: 95367431640625\n"
          ]
        }
      ]
    },
    {
      "cell_type": "markdown",
      "source": [
        "#Задания для лабораторной работы №2."
      ],
      "metadata": {
        "id": "3plrPpDmr9vk"
      }
    },
    {
      "cell_type": "markdown",
      "source": [
        "Задание 1. Разработайте программу, запрашивающую у пользователя букву латинского алфавита. Если введенная буква входит в следующий список (a, e, i, o или u), необходимо вывести сообщение о том, что эта буква гласная. Если была введена буква y, программа должна написать, что эта буква может быть, как гласной, так и согласной. Во всех других случаях должно выводиться сообщение о том, что введена согласная буква.\n"
      ],
      "metadata": {
        "id": "yywo17dSsBza"
      }
    },
    {
      "cell_type": "code",
      "source": [
        "# Запрос буквы у пользователя\n",
        "letter = input(\"Введите букву латинского алфавита: \").lower()\n",
        "\n",
        "# Проверка буквы\n",
        "if letter in ['a', 'e', 'i', 'o', 'u']:\n",
        "    print(\"Эта буква гласная.\")\n",
        "elif letter == 'y':\n",
        "    print(\"Эта буква может быть как гласной, так и согласной.\")\n",
        "elif letter.isalpha() and len(letter) == 1:\n",
        "    print(\"Эта буква согласная.\")\n",
        "else:\n",
        "    print(\"Это не буква латинского алфавита.\")"
      ],
      "metadata": {
        "colab": {
          "base_uri": "https://localhost:8080/"
        },
        "id": "4iYGZNLvspnH",
        "outputId": "3b7e7030-5022-4a51-87be-270e748a30ed"
      },
      "execution_count": 8,
      "outputs": [
        {
          "output_type": "stream",
          "name": "stdout",
          "text": [
            "Введите букву латинского алфавита: V\n",
            "Эта буква согласная.\n"
          ]
        }
      ]
    },
    {
      "cell_type": "markdown",
      "source": [
        "\n",
        "\n",
        "Задание 2. В таблице ниже приведены диапазоны магнитуд землетрясений по шкале Рихтера с описаниями. Ваша программа должна запрашивать у пользователя магнитуду землетрясения по шкале Рихтера и выводить на экран описание уровня, соответствующего введенному значению. Например, если пользователь введет значение 5,5, нужно вывести сообщение о том, что этой магнитуде соответствует умеренный уровень землетрясения.\n",
        "\n",
        "\n",
        "| **Магнитуда**                                 | **Описание землетрясения** |\n",
        "|------------------------------------------------|-----------------------------|\n",
        "| Меньше 2.0                                    | Минимальное                  |\n",
        "| Больше или равно 2.0 и меньше 3.0            | Очень слабое                 |\n",
        "| Больше или равно 3.0 и меньше 4.0            | Слабое                       |\n",
        "| Больше или равно 4.0 и меньше 5.0            | Промежуточное               |\n",
        "| Больше или равно 5.0 и меньше 6.0            | Умеренное                   |\n",
        "| Больше или равно 6.0 и меньше 7.0            | Сильное                     |\n",
        "| Больше или равно 7.0 и меньше 8.0            | Очень сильное               |\n",
        "| Больше или равно 8.0 и меньше 10.0           | Огромное                    |\n",
        "| 10.0 и больше                                  | Разрушительное              |\n",
        "\n"
      ],
      "metadata": {
        "id": "BY-moMYfsp2L"
      }
    },
    {
      "cell_type": "code",
      "source": [
        "# Запрос магнитуды у пользователя\n",
        "magnitude = float(input(\"Введите магнитуду землетрясения по шкале Рихтера: \"))\n",
        "\n",
        "# Определение уровня землетрясения\n",
        "if magnitude < 2.0:\n",
        "    description = \"Минимальное\"\n",
        "elif 2.0 <= magnitude < 3.0:\n",
        "    description = \"Очень слабое\"\n",
        "elif 3.0 <= magnitude < 4.0:\n",
        "    description = \"Слабое\"\n",
        "elif 4.0 <= magnitude < 5.0:\n",
        "    description = \"Промежуточное\"\n",
        "elif 5.0 <= magnitude < 6.0:\n",
        "    description = \"Умеренное\"\n",
        "elif 6.0 <= magnitude < 7.0:\n",
        "    description = \"Сильное\"\n",
        "elif 7.0 <= magnitude < 8.0:\n",
        "    description = \"Очень сильное\"\n",
        "elif 8.0 <= magnitude < 10.0:\n",
        "    description = \"Огромное\"\n",
        "else:  # magnitude >= 10.0\n",
        "    description = \"Разрушительное\"\n",
        "\n",
        "# Вывод результата\n",
        "print(f\"Для магнитуды {magnitude} уровень землетрясения: {description}\")"
      ],
      "metadata": {
        "colab": {
          "base_uri": "https://localhost:8080/"
        },
        "id": "FlT-ZK8JsqT1",
        "outputId": "ea9bcd21-6af8-4edf-a46f-c37425340526"
      },
      "execution_count": 9,
      "outputs": [
        {
          "output_type": "stream",
          "name": "stdout",
          "text": [
            "Введите магнитуду землетрясения по шкале Рихтера: 25\n",
            "Для магнитуды 25.0 уровень землетрясения: Разрушительное\n"
          ]
        }
      ]
    },
    {
      "cell_type": "markdown",
      "source": [
        "# Задания для лабораторной работы №3"
      ],
      "metadata": {
        "id": "uqW4bVn2xOmr"
      }
    },
    {
      "cell_type": "markdown",
      "source": [
        "Задание 1. Огромный заповедник поделён на большое количество секторов. Все сектора пронумерованы. Вы устроились на работу лесничим и отвечаете за группу секторов с номерами 30–35.\n",
        "В ваши обязанности входит:\n",
        "- следить за тем, чтобы посетителей в каждом секторе было не больше десяти;\n",
        "- фиксировать количество нарушений этого правила.\n",
        "Напишите программу, которая для каждого сектора запрашивает текущее количество людей в нём, и если оно больше десяти, то фиксирует нарушение. В конце выведите количество нарушений.\n",
        "Пример:\n",
        "Людей в 30-м секторе: 7\n",
        "\n",
        "Всё спокойно.\n",
        "\n",
        "Людей в 31-м секторе: 11\n",
        "\n",
        "Нарушение! Слишком много людей в секторе!\n",
        "\n",
        "Людей в 32-м секторе: 100\n",
        "\n",
        "Нарушение! Слишком много людей в секторе!\n",
        "\n",
        "Людей в 33-м секторе: 10\n",
        "\n",
        "Всё спокойно.\n",
        "\n",
        "Людей в 34-м секторе: 0\n",
        "\n",
        "Всё спокойно.\n",
        "\n",
        "Людей в 35-м секторе: 1\n",
        "\n",
        "Всё спокойно.\n",
        "\n",
        "Количество нарушений: 2.\n",
        "\n"
      ],
      "metadata": {
        "id": "HULrsnMCxQJ2"
      }
    },
    {
      "cell_type": "code",
      "source": [
        "def check_visitors():\n",
        "    violations = 0  # Счетчик нарушений\n",
        "    # Проходим по секторам с 30 по 35\n",
        "    for sector in range(30, 36):\n",
        "        # Запрашиваем количество людей в секторе\n",
        "        people = int(input(f\"Людей в {sector}-м секторе: \"))\n",
        "\n",
        "        # Проверяем количество людей\n",
        "        if people > 10:\n",
        "            print(\"Нарушение! Слишком много людей в секторе!\")\n",
        "            violations += 1  # Увеличиваем счетчик нарушений\n",
        "        else:\n",
        "            print(\"Всё спокойно.\")\n",
        "\n",
        "    # Выводим общее количество нарушений\n",
        "    print(f\"Количество нарушений: {violations}\")\n",
        "\n",
        "# Запуск функции\n",
        "check_visitors()"
      ],
      "metadata": {
        "colab": {
          "base_uri": "https://localhost:8080/"
        },
        "id": "E5pBnq8Zxnhw",
        "outputId": "344b06a2-8bc9-41be-f535-15b51d352fdc"
      },
      "execution_count": 21,
      "outputs": [
        {
          "output_type": "stream",
          "name": "stdout",
          "text": [
            "Людей в 30-м секторе: 10\n",
            "Всё спокойно.\n",
            "Людей в 31-м секторе: 30\n",
            "Нарушение! Слишком много людей в секторе!\n",
            "Людей в 32-м секторе: 40\n",
            "Нарушение! Слишком много людей в секторе!\n",
            "Людей в 33-м секторе: 100\n",
            "Нарушение! Слишком много людей в секторе!\n",
            "Людей в 34-м секторе: 2\n",
            "Всё спокойно.\n",
            "Людей в 35-м секторе: 1\n",
            "Всё спокойно.\n",
            "Количество нарушений: 3\n"
          ]
        }
      ]
    },
    {
      "cell_type": "markdown",
      "source": [
        "\n",
        "**Задание 2.** В классе N человек. Каждый из них получил за урок по информатике оценку: 3, 4 или 5, двоек сегодня не было. Напишите программу, которая получает список оценок — N чисел — и выводит на экран сообщение о том, кого сегодня больше: отличников, хорошистов или троечников.\n",
        "\n",
        "**Замечание:** можно предположить, что количество отличников, хорошистов, троечников различно.\n"
      ],
      "metadata": {
        "id": "XUFk95M-xnuq"
      }
    },
    {
      "cell_type": "code",
      "source": [
        "# Ввод количества учеников\n",
        "n = int(input(\"Введите количество учеников: \"))\n",
        "\n",
        "# Ввод оценок\n",
        "grades = list(map(int, input(\"Введите оценки через пробел: \").split()))\n",
        "\n",
        "# Подсчет количества оценок каждого типа\n",
        "threes = grades.count(3)\n",
        "fours = grades.count(4)\n",
        "fives = grades.count(5)\n",
        "\n",
        "# Анализ и вывод результатов\n",
        "if threes > fours and threes > fives:\n",
        "    print(\"Сегодня больше троечников.\")\n",
        "elif fours > threes and fours > fives:\n",
        "    print(\"Сегодня больше хорошистов.\")\n",
        "else:\n",
        "    print(\"Сегодня больше отличников.\")"
      ],
      "metadata": {
        "colab": {
          "base_uri": "https://localhost:8080/"
        },
        "id": "J10gGKUbxo3G",
        "outputId": "4677efdc-2250-4c65-bd93-f3ef7fc5a669"
      },
      "execution_count": 22,
      "outputs": [
        {
          "output_type": "stream",
          "name": "stdout",
          "text": [
            "Введите количество учеников: 10\n",
            "Введите оценки через пробел: 2 5 3\n",
            "Сегодня больше отличников.\n"
          ]
        }
      ]
    },
    {
      "cell_type": "markdown",
      "source": [
        "\n",
        "**Задание 3.** Для настольной игры используются карточки с номерами от 1 до N. Одна карточка потерялась. Напишите программу, которая поможет найти потерянную карточку, если номера оставшихся известны. Найдите её, зная номера оставшихся карточек.\n",
        "\n",
        "Введите число карточек — N.\n",
        "\n",
        "Затем последовательно введите N – 1 номера оставшихся карточек."
      ],
      "metadata": {
        "id": "j1sDedXkxpB5"
      }
    },
    {
      "cell_type": "code",
      "source": [
        "# Ввод количества карточек\n",
        "n = int(input(\"Введите число карточек (N): \"))\n",
        "\n",
        "# Ввод номеров оставшихся карточек\n",
        "remaining_cards = [int(input(f\"Введите номер {i+1}-й карточки: \")) for i in range(n - 1)]\n",
        "\n",
        "# Нахождение потерянной карточки\n",
        "expected_sum = sum(range(1, n + 1))  # Сумма всех карточек от 1 до N\n",
        "actual_sum = sum(remaining_cards)   # Сумма введенных карточек\n",
        "missing_card = expected_sum - actual_sum\n",
        "\n",
        "# Вывод потерянной карточки\n",
        "print(f\"Потерялась карточка с номером: {missing_card}\")"
      ],
      "metadata": {
        "colab": {
          "base_uri": "https://localhost:8080/"
        },
        "id": "OypvOu0AzJbe",
        "outputId": "c5f055ad-fef8-4dcf-c3b8-8dfab837aacf"
      },
      "execution_count": 24,
      "outputs": [
        {
          "output_type": "stream",
          "name": "stdout",
          "text": [
            "Введите число карточек (N): 5\n",
            "Введите номер 1-й карточки: 1\n",
            "Введите номер 2-й карточки: 2\n",
            "Введите номер 3-й карточки: 4\n",
            "Введите номер 4-й карточки: 5\n",
            "Потерялась карточка с номером: 3\n"
          ]
        }
      ]
    },
    {
      "cell_type": "markdown",
      "source": [
        "# Лабораторная работа 4."
      ],
      "metadata": {
        "id": "D1fJaEg0tBi5"
      }
    },
    {
      "cell_type": "markdown",
      "source": [
        "### Задания:\n",
        "1. Дан список ['a', '1', 'b', '2', 'c', '3']. Разбейте его на два списка: только с буквами и только с числами. Сам список затем удалите, а новые списки выведите на экран, каждый на отдельной строке.\n"
      ],
      "metadata": {
        "id": "-dBmARvptJfT"
      }
    },
    {
      "cell_type": "code",
      "source": [
        "# Исходный список\n",
        "original_list = ['a', '1', 'b', '2', 'c', '3']\n",
        "\n",
        "# Разделяем на списки с буквами и числами\n",
        "letters = [item for item in original_list if item.isalpha()]\n",
        "numbers = [item for item in original_list if item.isdigit()]\n",
        "\n",
        "# Удаляем исходный список\n",
        "del original_list\n",
        "\n",
        "# Выводим результаты\n",
        "print(letters)\n",
        "print(numbers)"
      ],
      "metadata": {
        "id": "GsP9FdEdtN-D"
      },
      "execution_count": null,
      "outputs": []
    },
    {
      "cell_type": "markdown",
      "source": [
        "2. Дан пустой список []. Используя методы списков: добавьте в него строку 'a', в конец списка еще и строку 'b', расширьте список за счет списка ['c', 'e'], вставьте в список перед 'e' строку 'd'. Выведите конечный результат на экран. Используя методы списков: удалите из него последний элемент, инверсируйте список (измените порядок следования элементов на обратный), удалите элемент со значением 'c', очистите список\n"
      ],
      "metadata": {
        "id": "D-kZQAT5tUWq"
      }
    },
    {
      "cell_type": "code",
      "source": [
        "# Создаем пустой список\n",
        "my_list = []\n",
        "\n",
        "# Выполняем действия по заданию\n",
        "my_list.append('a')              # Добавляем 'a'\n",
        "my_list.append('b')              # Добавляем 'b'\n",
        "my_list.extend(['c', 'e'])       # Расширяем ['c', 'e']\n",
        "my_list.insert(my_list.index('e'), 'd')  # Вставляем 'd' перед 'e'\n",
        "\n",
        "# Выводим результат\n",
        "print(my_list)\n",
        "\n",
        "# Удаляем последний элемент\n",
        "my_list.pop()\n",
        "# Инвертируем список\n",
        "my_list.reverse()\n",
        "# Удаляем элемент 'c'\n",
        "my_list.remove('c')\n",
        "# Очищаем список\n",
        "my_list.clear()\n",
        "\n",
        "# Выводим итоговый список (пустой)\n",
        "print(my_list)"
      ],
      "metadata": {
        "colab": {
          "base_uri": "https://localhost:8080/"
        },
        "id": "mZua8BoDtVpm",
        "outputId": "e8678136-c96c-4a64-fea4-eb95bfe32c9d"
      },
      "execution_count": 10,
      "outputs": [
        {
          "output_type": "stream",
          "name": "stdout",
          "text": [
            "['a', 'b', 'c', 'd', 'e']\n",
            "[]\n"
          ]
        }
      ]
    },
    {
      "cell_type": "markdown",
      "source": [
        "3. Дан список неповторяющихся целых чисел [3, -54, 25, 8, 0]. Выведите на экран: сумму его элементов, разность максимального и минимального значений.\n"
      ],
      "metadata": {
        "id": "EsaNyl-YtV1_"
      }
    },
    {
      "cell_type": "code",
      "source": [
        "# Исходный список\n",
        "numbers = [3, -54, 25, 8, 0]\n",
        "\n",
        "# Сумма элементов\n",
        "sum_of_elements = sum(numbers)\n",
        "# Разность между максимальным и минимальным\n",
        "difference = max(numbers) - min(numbers)\n",
        "\n",
        "# Выводим результаты\n",
        "print(f\"Сумма элементов: {sum_of_elements}\")\n",
        "print(f\"Разность максимального и минимального: {difference}\")"
      ],
      "metadata": {
        "colab": {
          "base_uri": "https://localhost:8080/"
        },
        "id": "aG0k3y2wtW0y",
        "outputId": "2b0ecb7e-f4aa-4a85-d827-b9753d2dd60e"
      },
      "execution_count": 11,
      "outputs": [
        {
          "output_type": "stream",
          "name": "stdout",
          "text": [
            "Сумма элементов: -18\n",
            "Разность максимального и минимального: 79\n"
          ]
        }
      ]
    },
    {
      "cell_type": "markdown",
      "source": [
        "4. Дан список натуральных чисел [13, 5, 7, 8, 16, 4]. Удалите из него первое четное число, имеющее нечетный индекс. Выведите измененный список на экран"
      ],
      "metadata": {
        "id": "aTfqfEpvtXEK"
      }
    },
    {
      "cell_type": "code",
      "source": [
        "# Исходный список\n",
        "numbers = [13, 5, 7, 8, 16, 4]\n",
        "\n",
        "# Удаляем первое четное число с нечетным индексом\n",
        "for i, num in enumerate(numbers):\n",
        "    if num % 2 == 0 and i % 2 != 0:  # Четное число с нечетным индексом\n",
        "        numbers.pop(i)\n",
        "        break\n",
        "\n",
        "# Выводим измененный список\n",
        "print(numbers)"
      ],
      "metadata": {
        "colab": {
          "base_uri": "https://localhost:8080/"
        },
        "id": "BKLcFmaNtXhP",
        "outputId": "52de96b8-e194-43bc-dc58-3d2d13c8cffa"
      },
      "execution_count": 12,
      "outputs": [
        {
          "output_type": "stream",
          "name": "stdout",
          "text": [
            "[13, 5, 7, 16, 4]\n"
          ]
        }
      ]
    },
    {
      "cell_type": "markdown",
      "source": [
        "\n",
        "# Лабораторная работа №5. Кортежи, словари"
      ],
      "metadata": {
        "id": "C_lU7BXytjVA"
      }
    },
    {
      "cell_type": "markdown",
      "source": [
        "### Задания:\n",
        "1. Дан словарь d = {'1': 1.29, '2': 0.43}. Используя доступ к элементам словаря по ключу, найдите произведение 1.29*0.43, после чего добавьте результат в словарь, а затем выведите значение нового элемента на экран.\n"
      ],
      "metadata": {
        "id": "QKfLUvcdtnb4"
      }
    },
    {
      "cell_type": "code",
      "source": [
        "# Исходный словарь\n",
        "d = {'1': 1.29, '2': 0.43}\n",
        "\n",
        "# Вычисляем произведение значений\n",
        "product = d['1'] * d['2']\n",
        "\n",
        "# Добавляем результат в словарь\n",
        "d['product'] = product\n",
        "\n",
        "# Выводим значение нового элемента\n",
        "print(d['product'])"
      ],
      "metadata": {
        "colab": {
          "base_uri": "https://localhost:8080/"
        },
        "id": "QjCjDyVptqyh",
        "outputId": "9065e1ab-c942-4e91-c0a2-e9aba137e9ff"
      },
      "execution_count": 13,
      "outputs": [
        {
          "output_type": "stream",
          "name": "stdout",
          "text": [
            "0.5547\n"
          ]
        }
      ]
    },
    {
      "cell_type": "markdown",
      "source": [
        "2. Требуется создать словарь colors для хранения информации о представлениях цветов HTML в виде специальных названий, а также в цветовой модели RGB в десятичном и шестнадцатеричном форматах. Сохраните в словаре информацию для черного, серого и белого цветов. В HTML эти цвета могут задаваться, соответственно:\n",
        "- по названиям black, grey и white;\n",
        "- в 10-м формате: rgb(0, 0, 0), rgb(128, 128, 128) и rgb(255, 255, 255);\n",
        "- в 16-м формате: #000000, #808080 и #FFFFFF."
      ],
      "metadata": {
        "id": "rTix6Ipzttfm"
      }
    },
    {
      "cell_type": "code",
      "source": [
        "# Создаем словарь colors\n",
        "colors = {\n",
        "    'black': {\n",
        "        'name': 'black',\n",
        "        'rgb_decimal': 'rgb(0, 0, 0)',\n",
        "        'rgb_hex': '#000000'\n",
        "    },\n",
        "    'grey': {\n",
        "        'name': 'grey',\n",
        "        'rgb_decimal': 'rgb(128, 128, 128)',\n",
        "        'rgb_hex': '#808080'\n",
        "    },\n",
        "    'white': {\n",
        "        'name': 'white',\n",
        "        'rgb_decimal': 'rgb(255, 255, 255)',\n",
        "        'rgb_hex': '#FFFFFF'\n",
        "    }\n",
        "}\n",
        "\n",
        "# Выводим словарь colors\n",
        "print(colors)"
      ],
      "metadata": {
        "colab": {
          "base_uri": "https://localhost:8080/"
        },
        "id": "PrNSISqHtt-b",
        "outputId": "6f24b513-ba14-4b97-8e93-9df0d1cf960a"
      },
      "execution_count": 14,
      "outputs": [
        {
          "output_type": "stream",
          "name": "stdout",
          "text": [
            "{'black': {'name': 'black', 'rgb_decimal': 'rgb(0, 0, 0)', 'rgb_hex': '#000000'}, 'grey': {'name': 'grey', 'rgb_decimal': 'rgb(128, 128, 128)', 'rgb_hex': '#808080'}, 'white': {'name': 'white', 'rgb_decimal': 'rgb(255, 255, 255)', 'rgb_hex': '#FFFFFF'}}\n"
          ]
        }
      ]
    },
    {
      "cell_type": "markdown",
      "source": [
        "#Задание к лабораторной работе №6"
      ],
      "metadata": {
        "id": "BeouE5zCuAHn"
      }
    },
    {
      "cell_type": "markdown",
      "source": [
        "Сначала создадим несколько файлов"
      ],
      "metadata": {
        "id": "Ou_na5F_ujf6"
      }
    },
    {
      "cell_type": "code",
      "source": [
        "# Создаем текстовые файлы с произвольной информацией для выполнения заданий\n",
        "\n",
        "# Для задания 1\n",
        "with open('input.txt', 'w', encoding='utf-8') as file:\n",
        "    file.write(\"This  is  a   sample text file.\\nIt contains multiple  lines  and  extra spaces.\\n\")\n",
        "\n",
        "# Для задания 2\n",
        "with open('words.txt', 'w', encoding='utf-8') as file:\n",
        "    file.write(\"banana apple orange grape pineapple cherry strawberry blueberry kiwi mango\")\n",
        "\n",
        "# Для задания 3\n",
        "with open('user_text.txt', 'w', encoding='utf-8') as file:\n",
        "    file.write(\"\")  # Файл создается пустым, текст будет добавлен позже."
      ],
      "metadata": {
        "id": "6gQT-rvNunZW"
      },
      "execution_count": 16,
      "outputs": []
    },
    {
      "cell_type": "markdown",
      "source": [
        "### Задания:\n",
        "1. Имеется текстовый файл с содержимым. Удалить лишние пробелы, подсчитать количество гласных и согласных, строк. Найти наиболее часто встречающийся символ. Записать все промежуточные результаты в другой текстовый файл."
      ],
      "metadata": {
        "id": "awGaKZ8Wu2el"
      }
    },
    {
      "cell_type": "code",
      "source": [
        "# Чтение содержимого файла\n",
        "with open('input.txt', 'r', encoding='utf-8') as file:\n",
        "    content = file.read()\n",
        "\n",
        "# Удаление лишних пробелов\n",
        "cleaned_content = ' '.join(content.split())\n",
        "\n",
        "# Подсчет количества гласных и согласных\n",
        "vowels = \"aeiouAEIOU\"\n",
        "consonants = \"bcdfghjklmnpqrstvwxyzBCDFGHJKLMNPQRSTVWXYZ\"\n",
        "vowel_count = sum(1 for char in cleaned_content if char in vowels)\n",
        "consonant_count = sum(1 for char in cleaned_content if char in consonants)\n",
        "\n",
        "# Подсчет количества строк\n",
        "line_count = len(content.splitlines())\n",
        "\n",
        "# Поиск наиболее часто встречающегося символа\n",
        "from collections import Counter\n",
        "most_common_char = Counter(cleaned_content).most_common(1)[0]\n",
        "\n",
        "# Запись результатов в другой файл\n",
        "with open('output.txt', 'w', encoding='utf-8') as file:\n",
        "    file.write(f\"Очищенный текст:\\n{cleaned_content}\\n\\n\")\n",
        "    file.write(f\"Количество гласных: {vowel_count}\\n\")\n",
        "    file.write(f\"Количество согласных: {consonant_count}\\n\")\n",
        "    file.write(f\"Количество строк: {line_count}\\n\")\n",
        "    file.write(f\"Наиболее часто встречающийся символ: {most_common_char[0]} ({most_common_char[1]} раз)\\n\")"
      ],
      "metadata": {
        "id": "rsz_R7WpuJLg"
      },
      "execution_count": 18,
      "outputs": []
    },
    {
      "cell_type": "markdown",
      "source": [
        "\n",
        "2. Считать из текстового файла слова, расположить их в алфавитном порядке ( не менее 10 слов), записать в этот же текстовый файл.\n"
      ],
      "metadata": {
        "id": "R5GPVaBauJXj"
      }
    },
    {
      "cell_type": "code",
      "source": [
        "# Чтение текста из файла\n",
        "with open('words.txt', 'r', encoding='utf-8') as file:\n",
        "    content = file.read()\n",
        "\n",
        "# Получение списка слов и сортировка\n",
        "words = content.split()\n",
        "sorted_words = sorted(words)\n",
        "\n",
        "# Запись отсортированных слов обратно в файл\n",
        "with open('words.txt', 'w', encoding='utf-8') as file:\n",
        "    file.write(' '.join(sorted_words))"
      ],
      "metadata": {
        "id": "nAASfm-IuKX9"
      },
      "execution_count": 19,
      "outputs": []
    },
    {
      "cell_type": "markdown",
      "source": [
        "3. Пользователь вводит текст с клавиатуры. Записать его в текстовый\n",
        "файл и разбить на строки по 15 символов"
      ],
      "metadata": {
        "id": "C7BV1udwuKju"
      }
    },
    {
      "cell_type": "code",
      "source": [
        "# Ввод текста от пользователя\n",
        "user_text = input(\"Введите текст: \")\n",
        "\n",
        "# Разбиение текста на строки по 15 символов\n",
        "lines = [user_text[i:i+15] for i in range(0, len(user_text), 15)]\n",
        "\n",
        "# Запись текста в файл\n",
        "with open('user_text.txt', 'w', encoding='utf-8') as file:\n",
        "    file.write('\\n'.join(lines))"
      ],
      "metadata": {
        "colab": {
          "base_uri": "https://localhost:8080/"
        },
        "id": "pNeB7oGavDOT",
        "outputId": "4e6fee5b-da7f-458c-875e-91f875a2cd53"
      },
      "execution_count": 20,
      "outputs": [
        {
          "name": "stdout",
          "output_type": "stream",
          "text": [
            "Введите текст: Имеется текстовый файл с содержимым. Удалить лишние пробелы, подсчитать количество гласных и согласных, строк. Найти наиболее часто встречающийся символ. Записать все промежуточные результаты в другой текстовый файл.\n"
          ]
        }
      ]
    }
  ]
}